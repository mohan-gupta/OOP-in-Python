{
 "cells": [
  {
   "cell_type": "markdown",
   "id": "a609d32e",
   "metadata": {},
   "source": [
    "<h1>Object Oriented Programming</h1><br>\n",
    "<p>The approach to solve a problem by creating an object. Concept of OOP is to create resuable code. This concept is also known as `DRY`(Don't Repeat Yourself).</p>\n",
    "<p><b>Properites of OOP:</b> <ol><li>Encapsulation\n",
    "                                 <li> Abstraction\n",
    "                                 <li> Inheritance\n",
    "                                 <li> Polymorphism</ol></p>\n",
    "<p><b>Encapsulation: </b> Bundling of similar things together. Preventing data from direct modification by making them private. To make a function or variable private in Python add double underscore before its name for eg. self.__name<br></p>\n",
    "<p><b>Abstraction: </b> It is the process of hiding implementation details from the user.<br></p>\n",
    "<p><b>Inheritance: </b>Process of creating new class using the details of existing class without modifying it.<br></p>\n",
    "<p><b>Polymorphism: </b>Same function but different results with different objects. for eg. <br>\n",
    "2+3 will result in 5 i.e., sum of two integers whereas<br>\n",
    "'a'+'b' will result in 'ab' i.e., concatenation of strings.</p><br>\n",
    "\n",
    "## Class and Object\n",
    "<b>Class: </b>A class is blueprint for the object.<br><br>\n",
    "<b>Object: </b> Object is simply a collection of data and methods, that act on those data. An object is also called `instance` of a class and the process of creating an object is called `instantiation`."
   ]
  },
  {
   "cell_type": "code",
   "execution_count": 1,
   "id": "dc0a96c9",
   "metadata": {},
   "outputs": [],
   "source": [
    "#lets define a class in python\n",
    "class MyClass:\n",
    "    '''This is docstring, description of class'''\n",
    "    \n",
    "    def __init__(self):\n",
    "        '''This is the constructor of the class'''\n",
    "        print(\"Object is created\")\n",
    "    \n",
    "    def func(self):\n",
    "        print(\"This is class Method\")"
   ]
  },
  {
   "cell_type": "code",
   "execution_count": 2,
   "id": "a4f04bd8",
   "metadata": {},
   "outputs": [
    {
     "name": "stdout",
     "output_type": "stream",
     "text": [
      "Object is created\n"
     ]
    }
   ],
   "source": [
    "#Now, lets create an object of this class\n",
    "obj = MyClass()"
   ]
  },
  {
   "cell_type": "markdown",
   "id": "9e8df96d",
   "metadata": {},
   "source": [
    "As soon as we create an object the constructor of the class is called"
   ]
  },
  {
   "cell_type": "code",
   "execution_count": 3,
   "id": "1200dd9f",
   "metadata": {},
   "outputs": [
    {
     "name": "stdout",
     "output_type": "stream",
     "text": [
      "This is class Method\n"
     ]
    }
   ],
   "source": [
    "#Now, lets call func method\n",
    "obj.func()"
   ]
  },
  {
   "cell_type": "markdown",
   "id": "0351650b",
   "metadata": {},
   "source": [
    "Notice, we used `self` parameter in the class. But we didn't pass any parameter when we called the function or created the object. Self is a reference to object of the class. And the above call is translated as: <br>\n",
    "<center><code>obj.func()</code> is translated as <code>MyClass.func(obj)</code></center>"
   ]
  },
  {
   "cell_type": "code",
   "execution_count": 4,
   "id": "154fd36f",
   "metadata": {},
   "outputs": [],
   "source": [
    "class Maths:\n",
    "    '''class to do addition and subtraction'''\n",
    "    \n",
    "    def __init__(self,a,b):\n",
    "        '''Constructor'''\n",
    "        self.x = a\n",
    "        self.y = b\n",
    "    \n",
    "    def __del__(self):\n",
    "        print(\"Class destructor called\")"
   ]
  },
  {
   "cell_type": "code",
   "execution_count": 5,
   "id": "98a76cfe",
   "metadata": {},
   "outputs": [],
   "source": [
    "m = Maths(10,12)"
   ]
  },
  {
   "cell_type": "code",
   "execution_count": 6,
   "id": "2bf3aa83",
   "metadata": {},
   "outputs": [
    {
     "name": "stdout",
     "output_type": "stream",
     "text": [
      "Class destructor called\n"
     ]
    }
   ],
   "source": [
    "del m"
   ]
  },
  {
   "cell_type": "markdown",
   "id": "0175b218",
   "metadata": {},
   "source": [
    "## Private and Protected Variables"
   ]
  },
  {
   "cell_type": "code",
   "execution_count": 7,
   "id": "a796fe5d",
   "metadata": {},
   "outputs": [],
   "source": [
    "class Student:\n",
    "    def __init__(self, name, age):\n",
    "        self.name = name\n",
    "        self.age = age\n",
    "        self._protected = 'Protected'\n",
    "        self.__private = 'Private'\n",
    "    \n",
    "    def details(self):\n",
    "        return f\"Name: {self.name} and Age: {self.age}\"\n",
    "    \n",
    "    def _get_name(self):\n",
    "        return self.name\n",
    "    \n",
    "    def __get_age(self):\n",
    "        return self.age"
   ]
  },
  {
   "cell_type": "code",
   "execution_count": 8,
   "id": "a14d9e00",
   "metadata": {},
   "outputs": [],
   "source": [
    "s1 = Student(\"Hermoine\", '23')"
   ]
  },
  {
   "cell_type": "code",
   "execution_count": 9,
   "id": "76ba905e",
   "metadata": {},
   "outputs": [
    {
     "name": "stdout",
     "output_type": "stream",
     "text": [
      "Name: Hermoine and Age: 23\n"
     ]
    }
   ],
   "source": [
    "print(s1.details())"
   ]
  },
  {
   "cell_type": "code",
   "execution_count": 10,
   "id": "db004912",
   "metadata": {},
   "outputs": [
    {
     "data": {
      "text/plain": [
       "'Protected'"
      ]
     },
     "execution_count": 10,
     "metadata": {},
     "output_type": "execute_result"
    }
   ],
   "source": [
    "#we can access a protected memeber with the object. But, it is considered bad practice to access it like this.\n",
    "s1._protected"
   ]
  },
  {
   "cell_type": "code",
   "execution_count": 11,
   "id": "9a867050",
   "metadata": {},
   "outputs": [
    {
     "ename": "AttributeError",
     "evalue": "'Student' object has no attribute '__private'",
     "output_type": "error",
     "traceback": [
      "\u001b[1;31m---------------------------------------------------------------------------\u001b[0m",
      "\u001b[1;31mAttributeError\u001b[0m                            Traceback (most recent call last)",
      "Cell \u001b[1;32mIn[11], line 2\u001b[0m\n\u001b[0;32m      1\u001b[0m \u001b[38;5;66;03m#We can't access a private varibale using the object\u001b[39;00m\n\u001b[1;32m----> 2\u001b[0m \u001b[43ms1\u001b[49m\u001b[38;5;241;43m.\u001b[39;49m\u001b[43m__private\u001b[49m\n",
      "\u001b[1;31mAttributeError\u001b[0m: 'Student' object has no attribute '__private'"
     ]
    }
   ],
   "source": [
    "#We can't access a private varibale using the object\n",
    "s1.__private"
   ]
  },
  {
   "cell_type": "code",
   "execution_count": 12,
   "id": "5841667f",
   "metadata": {},
   "outputs": [
    {
     "data": {
      "text/plain": [
       "'Hermoine'"
      ]
     },
     "execution_count": 12,
     "metadata": {},
     "output_type": "execute_result"
    }
   ],
   "source": [
    "s1._get_name()"
   ]
  },
  {
   "cell_type": "code",
   "execution_count": 13,
   "id": "6b52013c",
   "metadata": {},
   "outputs": [
    {
     "ename": "AttributeError",
     "evalue": "'Student' object has no attribute '__get_age'",
     "output_type": "error",
     "traceback": [
      "\u001b[1;31m---------------------------------------------------------------------------\u001b[0m",
      "\u001b[1;31mAttributeError\u001b[0m                            Traceback (most recent call last)",
      "Cell \u001b[1;32mIn[13], line 1\u001b[0m\n\u001b[1;32m----> 1\u001b[0m \u001b[43ms1\u001b[49m\u001b[38;5;241;43m.\u001b[39;49m\u001b[43m__get_age\u001b[49m()\n",
      "\u001b[1;31mAttributeError\u001b[0m: 'Student' object has no attribute '__get_age'"
     ]
    }
   ],
   "source": [
    "s1.__get_age()"
   ]
  },
  {
   "cell_type": "markdown",
   "id": "a760de32",
   "metadata": {},
   "source": [
    "#### Using `dir()` we can see all the variables and functions defined for an object."
   ]
  },
  {
   "cell_type": "code",
   "execution_count": 14,
   "id": "55ee128a",
   "metadata": {},
   "outputs": [
    {
     "name": "stdout",
     "output_type": "stream",
     "text": [
      "['_Student__get_age', '_Student__private', '__class__', '__delattr__', '__dict__', '__dir__', '__doc__', '__eq__', '__format__', '__ge__', '__getattribute__', '__gt__', '__hash__', '__init__', '__init_subclass__', '__le__', '__lt__', '__module__', '__ne__', '__new__', '__reduce__', '__reduce_ex__', '__repr__', '__setattr__', '__sizeof__', '__str__', '__subclasshook__', '__weakref__', '_get_name', '_protected', 'age', 'details', 'name']\n"
     ]
    }
   ],
   "source": [
    "print(dir(s1))"
   ]
  },
  {
   "cell_type": "markdown",
   "id": "ff71622c",
   "metadata": {},
   "source": [
    "We can see that the object the both private and protected members of the object's class. Hence, it is not completely hidden. Also, both private and protected members can be inherited."
   ]
  },
  {
   "cell_type": "markdown",
   "id": "8fbbf73c",
   "metadata": {},
   "source": [
    "### In Python, we have two types of inheritance:<br>\n",
    "<ol><li>Multiple Inheritance\n",
    "    <li>Multilevel Inheritance\n",
    "</ol>"
   ]
  },
  {
   "cell_type": "code",
   "execution_count": 15,
   "id": "223134b8",
   "metadata": {},
   "outputs": [],
   "source": [
    "#Multilevel Inheritance\n",
    "\n",
    "class Name:\n",
    "    def __init__(self,fname,lname):\n",
    "        self.fname = fname\n",
    "        self. lname = lname\n",
    "    def name(self):\n",
    "        return \"Name: {} {}\".format(self.fname,self.lname)\n",
    "\n",
    "\n",
    "class Email(Name):\n",
    "    def __init__(self, fname, lname):\n",
    "        super().__init__(fname, lname) #calss the constructor of parent class\n",
    "        \n",
    "    def email(self):\n",
    "        return \"E-mail : {}{}@gmail.com\".format(self.fname,self.lname)"
   ]
  },
  {
   "cell_type": "code",
   "execution_count": 16,
   "id": "e4e692fe",
   "metadata": {},
   "outputs": [
    {
     "data": {
      "text/plain": [
       "'Name: Jon Snow'"
      ]
     },
     "execution_count": 16,
     "metadata": {},
     "output_type": "execute_result"
    }
   ],
   "source": [
    "n = Name('Jon','Snow')\n",
    "n.name()"
   ]
  },
  {
   "cell_type": "code",
   "execution_count": 17,
   "id": "e6b33985",
   "metadata": {},
   "outputs": [
    {
     "name": "stdout",
     "output_type": "stream",
     "text": [
      "Name: Jon Snow\n",
      "E-mail : JonSnow@gmail.com\n"
     ]
    }
   ],
   "source": [
    "e = Email('Jon','Snow')\n",
    "print(e.name())\n",
    "print(e.email())"
   ]
  },
  {
   "cell_type": "markdown",
   "id": "e2fde295",
   "metadata": {},
   "source": [
    "Hence, we can see all the properties of parent class Name were inherited in child class Email."
   ]
  },
  {
   "cell_type": "code",
   "execution_count": 18,
   "id": "fc485f3c",
   "metadata": {},
   "outputs": [],
   "source": [
    "#Multiple Inheritance\n",
    "\n",
    "class square:\n",
    "    def __init__(self,a):\n",
    "        self.a = a\n",
    "    def sq(self):\n",
    "        return self.a**2\n",
    "\n",
    "class cube:\n",
    "    def __init__(self,b):\n",
    "        self.b = b\n",
    "    def cub(self):\n",
    "        return self.a**3\n",
    "\n",
    "class powers(square,cube):\n",
    "    pass"
   ]
  },
  {
   "cell_type": "code",
   "execution_count": 19,
   "id": "7059e592",
   "metadata": {},
   "outputs": [
    {
     "name": "stdout",
     "output_type": "stream",
     "text": [
      "4\n",
      "8\n"
     ]
    }
   ],
   "source": [
    "p = powers(2)\n",
    "print(p.sq())\n",
    "print(p.cub())"
   ]
  },
  {
   "cell_type": "markdown",
   "id": "59ad519c",
   "metadata": {},
   "source": [
    "### Method Resolution Order(MRO)\n",
    "<p>Every class in Python is derived from the class `object`. It is the most base class. all other classes wheter built in or user defined are derived classes and all objects are instances of `object class`.</p>\n",
    "\n",
    "<p><b>Search Order/ Linearization: </b> Any specified attribute is searched first in current class. If not found, then it is searched in parent class in depth-first, left-right fashion. Rules used to find this order is called MRO."
   ]
  },
  {
   "cell_type": "code",
   "execution_count": 20,
   "id": "7184ef9e",
   "metadata": {},
   "outputs": [
    {
     "name": "stdout",
     "output_type": "stream",
     "text": [
      "[<class '__main__.M'>, <class '__main__.B'>, <class '__main__.Z'>, <class '__main__.A'>, <class '__main__.X'>, <class '__main__.Y'>, <class 'object'>]\n"
     ]
    }
   ],
   "source": [
    "class X:\n",
    "    pass\n",
    "class Y:\n",
    "    pass\n",
    "class Z:\n",
    "    pass\n",
    "\n",
    "class A(X,Y):\n",
    "    pass\n",
    "\n",
    "class B(Z):\n",
    "    pass\n",
    "\n",
    "class M(B, A):\n",
    "    pass\n",
    "\n",
    "print(M.mro()) #depth first and left to right"
   ]
  },
  {
   "cell_type": "markdown",
   "id": "7e927cd7",
   "metadata": {},
   "source": [
    "### Now, as the basics of the OOP are clear, let us create a class of Complex numbers."
   ]
  },
  {
   "cell_type": "code",
   "execution_count": 21,
   "id": "7cdb1979",
   "metadata": {},
   "outputs": [],
   "source": [
    "class Complex:\n",
    "    def __init__(self,a,b):\n",
    "        self.real = a\n",
    "        self.img = b"
   ]
  },
  {
   "cell_type": "code",
   "execution_count": 22,
   "id": "6f4911c0",
   "metadata": {},
   "outputs": [],
   "source": [
    "#creating two complex numbers\n",
    "\n",
    "cmp1 = Complex(2,3)\n",
    "cmp2 = Complex(4,5)"
   ]
  },
  {
   "cell_type": "code",
   "execution_count": 23,
   "id": "cbe091ca",
   "metadata": {},
   "outputs": [
    {
     "name": "stdout",
     "output_type": "stream",
     "text": [
      "<__main__.Complex object at 0x000002AE72B91FA0>\n"
     ]
    }
   ],
   "source": [
    "print(cmp1)"
   ]
  },
  {
   "cell_type": "markdown",
   "id": "e7c65fcb",
   "metadata": {},
   "source": [
    "Here, we get the information about the memory address of the object and class name.<br>\n",
    "But, what if we want it to show the complex number in `a+bj` form."
   ]
  },
  {
   "cell_type": "code",
   "execution_count": 24,
   "id": "96436cee",
   "metadata": {},
   "outputs": [],
   "source": [
    "class Complex:\n",
    "    def __init__(self, a, b):\n",
    "        self.real = a\n",
    "        self.img = b\n",
    "        \n",
    "    def __str__(self):\n",
    "        return f\"{self.real}+{self.img}j\""
   ]
  },
  {
   "cell_type": "code",
   "execution_count": 25,
   "id": "a07fee5e",
   "metadata": {},
   "outputs": [],
   "source": [
    "cmp1 = Complex(2, 3)\n",
    "cmp2 = Complex(4, 5)"
   ]
  },
  {
   "cell_type": "code",
   "execution_count": 26,
   "id": "e8fd405c",
   "metadata": {},
   "outputs": [
    {
     "name": "stdout",
     "output_type": "stream",
     "text": [
      "2+3j\n"
     ]
    }
   ],
   "source": [
    "print(cmp1)"
   ]
  },
  {
   "cell_type": "code",
   "execution_count": 27,
   "id": "7cd0f61e",
   "metadata": {},
   "outputs": [
    {
     "ename": "TypeError",
     "evalue": "unsupported operand type(s) for +: 'Complex' and 'Complex'",
     "output_type": "error",
     "traceback": [
      "\u001b[1;31m---------------------------------------------------------------------------\u001b[0m",
      "\u001b[1;31mTypeError\u001b[0m                                 Traceback (most recent call last)",
      "Cell \u001b[1;32mIn[27], line 2\u001b[0m\n\u001b[0;32m      1\u001b[0m \u001b[38;5;66;03m# let us add the two complex numbers\u001b[39;00m\n\u001b[1;32m----> 2\u001b[0m \u001b[38;5;28mprint\u001b[39m(\u001b[43mcmp1\u001b[49m\u001b[38;5;241;43m+\u001b[39;49m\u001b[43mcmp2\u001b[49m)\n",
      "\u001b[1;31mTypeError\u001b[0m: unsupported operand type(s) for +: 'Complex' and 'Complex'"
     ]
    }
   ],
   "source": [
    "# let us add the two complex numbers\n",
    "print(cmp1+cmp2)"
   ]
  },
  {
   "cell_type": "markdown",
   "id": "2eeae9fd",
   "metadata": {},
   "source": [
    "This error means that the `+` operator is unsupported for our `Complex` class.<br>\n",
    "\n",
    "We Know that when we add two numbers we get their sum and when we add two strings we get the concatenated string."
   ]
  },
  {
   "cell_type": "code",
   "execution_count": 28,
   "id": "2aa3611c",
   "metadata": {},
   "outputs": [
    {
     "name": "stdout",
     "output_type": "stream",
     "text": [
      "5\n",
      "ab\n"
     ]
    }
   ],
   "source": [
    "print(2 + 3)\n",
    "print('a' + 'b')"
   ]
  },
  {
   "cell_type": "markdown",
   "id": "4b538c57",
   "metadata": {},
   "source": [
    "Now, we can see the operator + was same<br>\n",
    "But when it was applied on different type of objects it yielded different results.<br>\n",
    "When we use + operator internally Python's `__add__()` function is called which works different for different data types.\n",
    "\n",
    "These functions which starts with double underscore and ends with it are known as `dunder methods`.<br>\n",
    "Some other dunder methods are: <br><ul>\n",
    "<li> __str__ : string representation of object. it is invoked when used inside print\n",
    "<li> __repr__ : Complete string representation of object which is a valid Python expression.\n",
    "<li> __sub__ : for Subtraction\n",
    "<li> __eq__ : To check equaltiy of two objects\n",
    "<li> __ls__ : less than\n",
    "</ul>\n",
    "and so on.. "
   ]
  },
  {
   "cell_type": "code",
   "execution_count": 29,
   "id": "b263419f",
   "metadata": {},
   "outputs": [],
   "source": [
    "class Complex:\n",
    "    '''class to work on complex Numbers'''\n",
    "    \n",
    "    def __init__(self,a,b):\n",
    "        self.real = a\n",
    "        self.img = b\n",
    "        \n",
    "    def __str__(self):\n",
    "        '''Function to print the complex number object'''\n",
    "        if self.img>0:\n",
    "            return \"{}+{}j\".format(self.real,self.img)\n",
    "        else:\n",
    "            return \"{}-{}j\".format(self.real ,abs(self.img))\n",
    "    def __repr__(self):\n",
    "        '''Function to print the complex number object'''\n",
    "        if self.img>0:\n",
    "            return \"{}+{}j\".format(self.real,self.img)\n",
    "        else:\n",
    "            return \"{}-{}j\".format(self.real ,abs(self.img))\n",
    "        \n",
    "    def __abs__(self):\n",
    "        '''To calculate absolute value of complex number'''\n",
    "        return (self.real**2 + self.img**2)**(0.5)\n",
    "    \n",
    "    def __add__(self,other):                              # here other refers to the other object of this class\n",
    "        '''Function to add two complex numbers'''\n",
    "        x = self.real + other.img\n",
    "        y = self.img + other.img\n",
    "        return Complex(x,y)\n",
    "    \n",
    "    def __sub__(self,other):\n",
    "        '''Function to subtract two complex numbers'''\n",
    "        x = self.real - other.img\n",
    "        y = self.img - other.img\n",
    "        return Complex(x,y)\n",
    "    \n",
    "    def __mul__(self,other):\n",
    "        '''Funxtion to multiply two complex numbers'''\n",
    "        x = (self.real*other.real) - (self.img*other.img)\n",
    "        y = (self.img*other.real) +(self.real*other.img)\n",
    "        return Complex(x,y)"
   ]
  },
  {
   "cell_type": "code",
   "execution_count": 30,
   "id": "d3382c81",
   "metadata": {},
   "outputs": [],
   "source": [
    "cmp1 = Complex(2, 3)"
   ]
  },
  {
   "cell_type": "code",
   "execution_count": 31,
   "id": "7e6b8997",
   "metadata": {},
   "outputs": [
    {
     "data": {
      "text/plain": [
       "2+3j"
      ]
     },
     "execution_count": 31,
     "metadata": {},
     "output_type": "execute_result"
    }
   ],
   "source": [
    "cmp1 #__repr__ is invoked"
   ]
  },
  {
   "cell_type": "code",
   "execution_count": 32,
   "id": "7930c921",
   "metadata": {},
   "outputs": [
    {
     "name": "stdout",
     "output_type": "stream",
     "text": [
      "2+3j\n"
     ]
    }
   ],
   "source": [
    "print(cmp1) #__str__ is invoked"
   ]
  },
  {
   "cell_type": "code",
   "execution_count": 33,
   "id": "97f74a8c",
   "metadata": {},
   "outputs": [
    {
     "data": {
      "text/plain": [
       "3.605551275463989"
      ]
     },
     "execution_count": 33,
     "metadata": {},
     "output_type": "execute_result"
    }
   ],
   "source": [
    "abs(cmp1)"
   ]
  },
  {
   "cell_type": "code",
   "execution_count": 34,
   "id": "ffb03d9a",
   "metadata": {},
   "outputs": [],
   "source": [
    "cmp2 = Complex(4,5)"
   ]
  },
  {
   "cell_type": "code",
   "execution_count": 35,
   "id": "2ef8895b",
   "metadata": {},
   "outputs": [
    {
     "name": "stdout",
     "output_type": "stream",
     "text": [
      "7+8j\n"
     ]
    }
   ],
   "source": [
    "print(cmp1+cmp2)"
   ]
  },
  {
   "cell_type": "markdown",
   "id": "8f92b0f9",
   "metadata": {},
   "source": [
    "`cmp1+cmp2` internally --> `cmp1.__add__(cmp2)` which translates to --> `Complex.__add__(cmp1,cmp2)`"
   ]
  },
  {
   "cell_type": "code",
   "execution_count": 36,
   "id": "fa0dd48c",
   "metadata": {},
   "outputs": [
    {
     "name": "stdout",
     "output_type": "stream",
     "text": [
      "-3-2j\n"
     ]
    }
   ],
   "source": [
    "print(cmp1-cmp2)"
   ]
  },
  {
   "cell_type": "code",
   "execution_count": 37,
   "id": "7e4513c7",
   "metadata": {},
   "outputs": [
    {
     "name": "stdout",
     "output_type": "stream",
     "text": [
      "-7+22j\n"
     ]
    }
   ],
   "source": [
    "print(cmp1*cmp2)"
   ]
  },
  {
   "cell_type": "markdown",
   "id": "ece6a9ae",
   "metadata": {},
   "source": [
    "## Class Variable and Instance Variable\n",
    "\n",
    "<b>Class Variable:</b> This variable is shared across all the objects of the class.<br>\n",
    "<b>Instance Variable:</b> This variable is specific to an object and not shared across other objects."
   ]
  },
  {
   "cell_type": "code",
   "execution_count": 38,
   "id": "b000694d",
   "metadata": {},
   "outputs": [],
   "source": [
    "class MLEngineer:\n",
    "    \n",
    "    role = \"ML Engineer\" #class variable\n",
    "    \n",
    "    def __init__(self, name, age, salary):\n",
    "        self.name = name\n",
    "        self.age = age\n",
    "        self.salary = salary"
   ]
  },
  {
   "cell_type": "code",
   "execution_count": 39,
   "id": "4326f1d1",
   "metadata": {},
   "outputs": [],
   "source": [
    "mle1 = MLEngineer(\"Harry\", 27, 5000)\n",
    "mle2  = MLEngineer(\"Ron\", 27, 3000)"
   ]
  },
  {
   "cell_type": "code",
   "execution_count": 40,
   "id": "fbe409f9",
   "metadata": {},
   "outputs": [
    {
     "name": "stdout",
     "output_type": "stream",
     "text": [
      "ML Engineer\n",
      "ML Engineer\n"
     ]
    }
   ],
   "source": [
    "print(mle1.role)\n",
    "print(mle2.role)"
   ]
  },
  {
   "cell_type": "code",
   "execution_count": 41,
   "id": "8b22b940",
   "metadata": {},
   "outputs": [
    {
     "name": "stdout",
     "output_type": "stream",
     "text": [
      "ML Engineer\n"
     ]
    }
   ],
   "source": [
    "#Class variable can also be accessed by className\n",
    "print(MLEngineer.role)"
   ]
  },
  {
   "cell_type": "code",
   "execution_count": 42,
   "id": "9b72d3b6",
   "metadata": {},
   "outputs": [
    {
     "name": "stdout",
     "output_type": "stream",
     "text": [
      "Harry\n",
      "Ron\n"
     ]
    }
   ],
   "source": [
    "print(mle1.name)\n",
    "print(mle2.name)"
   ]
  },
  {
   "cell_type": "markdown",
   "id": "dffa4f32",
   "metadata": {},
   "source": [
    "## ClassMethods and StaticMethods\n",
    "\n",
    "<b>ClassMethods:</b> A classmethod is bound to the class and have access to the state of the class. A classmethod can modify the state of the class i.e., class variable. They take class itself as an implicit argument<br>\n",
    "\n",
    "<b>StaticMethods:</b> A staticmethod is also bound to the class but it doesn't have access to the state of the class. A staticmethod just works on the parameters passed to it. It is just like a normal function but it is defined inside a class as its functioning is related to that class."
   ]
  },
  {
   "cell_type": "code",
   "execution_count": 43,
   "id": "1c132037",
   "metadata": {},
   "outputs": [],
   "source": [
    "from datetime import datetime"
   ]
  },
  {
   "cell_type": "code",
   "execution_count": 44,
   "id": "7f8e961c",
   "metadata": {},
   "outputs": [],
   "source": [
    "class Student:\n",
    "    def __init__(self, name, age):\n",
    "        self.name = name\n",
    "        self.age = age\n",
    "        \n",
    "    def get_name(self):\n",
    "        return self.name\n",
    "    \n",
    "    @staticmethod\n",
    "    def get_total_score(marks):\n",
    "        return sum(marks)\n",
    "      \n",
    "    @classmethod\n",
    "    def from_birthdate(cls, name, birth_date):\n",
    "        age = (datetime.today() - birth_date).days // 365\n",
    "        return cls(name, age)"
   ]
  },
  {
   "cell_type": "code",
   "execution_count": 45,
   "id": "80959df5",
   "metadata": {},
   "outputs": [],
   "source": [
    "s1 = Student('Ron', 23)\n",
    "s2 = Student.from_birthdate('Harry', datetime(1996, 6, 15))"
   ]
  },
  {
   "cell_type": "code",
   "execution_count": 46,
   "id": "eacc0d90",
   "metadata": {},
   "outputs": [
    {
     "name": "stdout",
     "output_type": "stream",
     "text": [
      "23\n",
      "26\n"
     ]
    }
   ],
   "source": [
    "print(s1.age)\n",
    "print(s2.age)"
   ]
  },
  {
   "cell_type": "code",
   "execution_count": 47,
   "id": "adb79871",
   "metadata": {},
   "outputs": [
    {
     "data": {
      "text/plain": [
       "142"
      ]
     },
     "execution_count": 47,
     "metadata": {},
     "output_type": "execute_result"
    }
   ],
   "source": [
    "s1.get_total_score([63,56,23])"
   ]
  },
  {
   "cell_type": "markdown",
   "id": "ce4a88ef",
   "metadata": {},
   "source": [
    "## Property\n",
    "\n",
    "Property allows to create methods that behaves like attributes. Property is a way to avoid getters and setters methods.<br>\n",
    "To create a property we use` @property` decorator on the getter function. And to create setter and delete method, we decorate them with the property method name and `.seter` or `.deleter` respectively"
   ]
  },
  {
   "cell_type": "code",
   "execution_count": 48,
   "id": "b8a3ac15",
   "metadata": {},
   "outputs": [],
   "source": [
    "class Point:\n",
    "    def __init__(self, x, y):\n",
    "        self.x = x\n",
    "        self.y = y\n",
    "    \n",
    "    def get_x(self):\n",
    "        return self.x\n",
    "    \n",
    "    def set_x(self, x):\n",
    "        self.x = x\n",
    "        \n",
    "    def get_y(self, y):\n",
    "        return self.y\n",
    "    \n",
    "    def set_y(self, y):\n",
    "        self.y = y"
   ]
  },
  {
   "cell_type": "code",
   "execution_count": 49,
   "id": "695a24ea",
   "metadata": {},
   "outputs": [],
   "source": [
    "p = Point(2, 3)"
   ]
  },
  {
   "cell_type": "code",
   "execution_count": 50,
   "id": "937e065f",
   "metadata": {},
   "outputs": [
    {
     "data": {
      "text/plain": [
       "2"
      ]
     },
     "execution_count": 50,
     "metadata": {},
     "output_type": "execute_result"
    }
   ],
   "source": [
    "p.get_x()"
   ]
  },
  {
   "cell_type": "code",
   "execution_count": 51,
   "id": "a3bc3ffc",
   "metadata": {},
   "outputs": [],
   "source": [
    "p.set_x(4)"
   ]
  },
  {
   "cell_type": "code",
   "execution_count": 52,
   "id": "70ab8577",
   "metadata": {},
   "outputs": [
    {
     "data": {
      "text/plain": [
       "4"
      ]
     },
     "execution_count": 52,
     "metadata": {},
     "output_type": "execute_result"
    }
   ],
   "source": [
    "p.get_x()"
   ]
  },
  {
   "cell_type": "markdown",
   "id": "a7ede5b5",
   "metadata": {},
   "source": [
    "## Using Property"
   ]
  },
  {
   "cell_type": "code",
   "execution_count": 53,
   "id": "a1030746",
   "metadata": {},
   "outputs": [],
   "source": [
    "class Point:\n",
    "    def __init__(self, x, y):\n",
    "        self.x = x\n",
    "        self.y = y\n",
    "    \n",
    "    @property\n",
    "    def x_cord(self):\n",
    "        return self.x\n",
    "    \n",
    "    @x_cord.setter\n",
    "    def x_cord(self, x):\n",
    "        self.x = x\n",
    "        \n",
    "    @x_cord.deleter\n",
    "    def x_cord(self):\n",
    "        del self.x\n",
    "    \n",
    "    @property\n",
    "    def y_cord(self, y):\n",
    "        return self.y\n",
    "    \n",
    "    @y_cord.setter\n",
    "    def set_y(self, y):\n",
    "        self.y = y"
   ]
  },
  {
   "cell_type": "code",
   "execution_count": 54,
   "id": "f2343322",
   "metadata": {},
   "outputs": [],
   "source": [
    "p = Point(2, 3)"
   ]
  },
  {
   "cell_type": "code",
   "execution_count": 55,
   "id": "923522d1",
   "metadata": {},
   "outputs": [
    {
     "data": {
      "text/plain": [
       "2"
      ]
     },
     "execution_count": 55,
     "metadata": {},
     "output_type": "execute_result"
    }
   ],
   "source": [
    "p.x_cord"
   ]
  },
  {
   "cell_type": "code",
   "execution_count": 56,
   "id": "6678e6fe",
   "metadata": {},
   "outputs": [],
   "source": [
    "p.x_cord = 3"
   ]
  },
  {
   "cell_type": "code",
   "execution_count": 57,
   "id": "d81e03a3",
   "metadata": {},
   "outputs": [
    {
     "data": {
      "text/plain": [
       "3"
      ]
     },
     "execution_count": 57,
     "metadata": {},
     "output_type": "execute_result"
    }
   ],
   "source": [
    "p.x_cord"
   ]
  },
  {
   "cell_type": "markdown",
   "id": "9276aabc",
   "metadata": {},
   "source": [
    "#### Property is a pythonic way of using getters and setters.\n",
    "We can define Data validation in the getter and setter function and use them just like attributes.<br>\n",
    "For eg. lets say we don't allow any negative coordinates. if user gives a negative coordinat we will set it as zero."
   ]
  },
  {
   "cell_type": "code",
   "execution_count": 58,
   "id": "bb039371",
   "metadata": {},
   "outputs": [],
   "source": [
    "class Point:\n",
    "    def __init__(self, x, y):\n",
    "        self.x_cord = x\n",
    "        self.y_cord = y\n",
    "    \n",
    "    @property\n",
    "    def x_cord(self):\n",
    "        return self._x_cord\n",
    "    \n",
    "    @x_cord.setter\n",
    "    def x_cord(self, x):\n",
    "        if x<0:\n",
    "            self._x_cord = 0\n",
    "        else:\n",
    "            self._x_cord = x\n",
    "    \n",
    "    @property\n",
    "    def y_cord(self):\n",
    "        return self._y_cord\n",
    "    \n",
    "    @y_cord.setter\n",
    "    def y_cord(self, y):\n",
    "        if y<0:\n",
    "            self._y_cord = 0\n",
    "        else:\n",
    "            self._y_cord = y"
   ]
  },
  {
   "cell_type": "code",
   "execution_count": 59,
   "id": "52096dc3",
   "metadata": {},
   "outputs": [],
   "source": [
    "p = Point(2, 3)"
   ]
  },
  {
   "cell_type": "code",
   "execution_count": 60,
   "id": "4c0cb1e9",
   "metadata": {},
   "outputs": [
    {
     "data": {
      "text/plain": [
       "(2, 3)"
      ]
     },
     "execution_count": 60,
     "metadata": {},
     "output_type": "execute_result"
    }
   ],
   "source": [
    "p.x_cord, p.y_cord"
   ]
  },
  {
   "cell_type": "code",
   "execution_count": 61,
   "id": "a2efd4b0",
   "metadata": {},
   "outputs": [],
   "source": [
    "p.y_cord = -3\n",
    "p.x_cord = -2"
   ]
  },
  {
   "cell_type": "code",
   "execution_count": 62,
   "id": "795ce1ad",
   "metadata": {},
   "outputs": [
    {
     "data": {
      "text/plain": [
       "(0, 0)"
      ]
     },
     "execution_count": 62,
     "metadata": {},
     "output_type": "execute_result"
    }
   ],
   "source": [
    "p.x_cord, p.y_cord"
   ]
  },
  {
   "cell_type": "code",
   "execution_count": 63,
   "id": "81cbbf3a",
   "metadata": {},
   "outputs": [
    {
     "data": {
      "text/plain": [
       "(0, 0)"
      ]
     },
     "execution_count": 63,
     "metadata": {},
     "output_type": "execute_result"
    }
   ],
   "source": [
    "p = Point(-2, -3)\n",
    "p.x_cord, p.y_cord"
   ]
  },
  {
   "cell_type": "markdown",
   "id": "6f7474f4",
   "metadata": {},
   "source": [
    "One other benefit of using Property is we can define attributes of following types:<ul>\n",
    "    <li>Read-Only\n",
    "    <li>Write-Only\n",
    "    <li>Read-Write\n",
    "</ul>"
   ]
  },
  {
   "cell_type": "markdown",
   "id": "06011072",
   "metadata": {},
   "source": [
    "## Abstract Classes\n",
    "<p>Abstracted classes are the classes which only contains function prototypes and no definition of the functions, <code>we cannot create objects of abstract classes</code>. Once they are inherited, we need to define the body of the functions inherited from abstract classes.</p>\n",
    "<p>To define an abstract class and abstract method, we import ABC and abstractmethod from abc module.</p>"
   ]
  },
  {
   "cell_type": "code",
   "execution_count": 1,
   "id": "d6625b6e",
   "metadata": {},
   "outputs": [],
   "source": [
    "from abc import ABC, abstractmethod"
   ]
  },
  {
   "cell_type": "code",
   "execution_count": 2,
   "id": "6acce449",
   "metadata": {},
   "outputs": [],
   "source": [
    "class Employee(ABC):\n",
    "    @abstractmethod\n",
    "    def work(self):\n",
    "        pass"
   ]
  },
  {
   "cell_type": "markdown",
   "id": "9175c19d",
   "metadata": {},
   "source": [
    "To create an abstract class, we inherit ABC and to define an abstract method we use abstractmethod decorator."
   ]
  },
  {
   "cell_type": "code",
   "execution_count": 3,
   "id": "7c170758",
   "metadata": {},
   "outputs": [
    {
     "ename": "TypeError",
     "evalue": "Can't instantiate abstract class Employee with abstract method work",
     "output_type": "error",
     "traceback": [
      "\u001b[1;31m---------------------------------------------------------------------------\u001b[0m",
      "\u001b[1;31mTypeError\u001b[0m                                 Traceback (most recent call last)",
      "Cell \u001b[1;32mIn[3], line 1\u001b[0m\n\u001b[1;32m----> 1\u001b[0m emp \u001b[38;5;241m=\u001b[39m \u001b[43mEmployee\u001b[49m\u001b[43m(\u001b[49m\u001b[43m)\u001b[49m\n",
      "\u001b[1;31mTypeError\u001b[0m: Can't instantiate abstract class Employee with abstract method work"
     ]
    }
   ],
   "source": [
    "emp = Employee()"
   ]
  },
  {
   "cell_type": "code",
   "execution_count": 4,
   "id": "ff748f52",
   "metadata": {},
   "outputs": [],
   "source": [
    "class SoftwareEngineer(Employee):\n",
    "    def __init__(self, name, age):\n",
    "        self.name = name\n",
    "        self.age = age\n",
    "        \n",
    "    def display(self):\n",
    "        return f\"Name: {self.name}, Age: {self.age}\""
   ]
  },
  {
   "cell_type": "code",
   "execution_count": 5,
   "id": "5b75ef02",
   "metadata": {},
   "outputs": [
    {
     "ename": "TypeError",
     "evalue": "Can't instantiate abstract class SoftwareEngineer with abstract method work",
     "output_type": "error",
     "traceback": [
      "\u001b[1;31m---------------------------------------------------------------------------\u001b[0m",
      "\u001b[1;31mTypeError\u001b[0m                                 Traceback (most recent call last)",
      "Cell \u001b[1;32mIn[5], line 1\u001b[0m\n\u001b[1;32m----> 1\u001b[0m se1 \u001b[38;5;241m=\u001b[39m \u001b[43mSoftwareEngineer\u001b[49m\u001b[43m(\u001b[49m\u001b[38;5;124;43m\"\u001b[39;49m\u001b[38;5;124;43mRon\u001b[39;49m\u001b[38;5;124;43m\"\u001b[39;49m\u001b[43m,\u001b[49m\u001b[43m \u001b[49m\u001b[38;5;241;43m23\u001b[39;49m\u001b[43m)\u001b[49m\n",
      "\u001b[1;31mTypeError\u001b[0m: Can't instantiate abstract class SoftwareEngineer with abstract method work"
     ]
    }
   ],
   "source": [
    "se1 = SoftwareEngineer(\"Ron\", 23)"
   ]
  },
  {
   "cell_type": "markdown",
   "id": "678c24e5",
   "metadata": {},
   "source": [
    "Once, we inherit an abstract class, we need to define the abstract method in the child class. Otherwise, we can't create the object of child class."
   ]
  },
  {
   "cell_type": "code",
   "execution_count": 6,
   "id": "77465198",
   "metadata": {},
   "outputs": [],
   "source": [
    "class SoftwareEngineer(Employee):\n",
    "    def __init__(self, name, age):\n",
    "        self.name = name\n",
    "        self.age = age\n",
    "        \n",
    "    def work(self):\n",
    "        return \"Software Engineer is working...\"\n",
    "    \n",
    "    def display(self):\n",
    "        return f\"Name: {self.name}, Age: {self.age}\""
   ]
  },
  {
   "cell_type": "code",
   "execution_count": 7,
   "id": "ddadabfc",
   "metadata": {},
   "outputs": [],
   "source": [
    "se = SoftwareEngineer(\"Hermoine\", 21)"
   ]
  },
  {
   "cell_type": "code",
   "execution_count": 8,
   "id": "93dc8132",
   "metadata": {},
   "outputs": [
    {
     "data": {
      "text/plain": [
       "'Software Engineer is working...'"
      ]
     },
     "execution_count": 8,
     "metadata": {},
     "output_type": "execute_result"
    }
   ],
   "source": [
    "se.work()"
   ]
  }
 ],
 "metadata": {
  "kernelspec": {
   "display_name": "Python 3 (ipykernel)",
   "language": "python",
   "name": "python3"
  },
  "language_info": {
   "codemirror_mode": {
    "name": "ipython",
    "version": 3
   },
   "file_extension": ".py",
   "mimetype": "text/x-python",
   "name": "python",
   "nbconvert_exporter": "python",
   "pygments_lexer": "ipython3",
   "version": "3.9.12"
  }
 },
 "nbformat": 4,
 "nbformat_minor": 5
}
